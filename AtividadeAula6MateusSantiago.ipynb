{
 "cells": [
  {
   "cell_type": "markdown",
   "metadata": {},
   "source": [
    "# Aula 6"
   ]
  },
  {
   "cell_type": "code",
   "execution_count": 4,
   "metadata": {},
   "outputs": [
    {
     "name": "stdout",
     "output_type": "stream",
     "text": [
      "String original: Eu me Chamo Mateus Santiago\n",
      "String invertida: ogaitnaS suetaM omahC em uE\n"
     ]
    }
   ],
   "source": [
    "# Implementação da pilha\n",
    "class Pilha:\n",
    "    def __init__(self):\n",
    "        self.itens = []\n",
    "\n",
    "    def push(self, item):\n",
    "        self.itens.append(item)\n",
    "\n",
    "    def pop(self):\n",
    "        if not self.is_empty():\n",
    "            return self.itens.pop()\n",
    "        return None\n",
    "\n",
    "    def peek(self):\n",
    "        if not self.is_empty():\n",
    "            return self.itens[-1]\n",
    "        return None\n",
    "\n",
    "    def is_empty(self):\n",
    "        return len(self.itens) == 0\n",
    "\n",
    "# Função para reverter a string utilizando a pilha\n",
    "def reverter_string(string):\n",
    "    pilha = Pilha()\n",
    "    for char in string:\n",
    "        pilha.push(char)\n",
    "\n",
    "    reversed_string = \"\"\n",
    "    while not pilha.is_empty():\n",
    "        reversed_string += pilha.pop()\n",
    "\n",
    "    return reversed_string\n",
    "\n",
    "# Função principal\n",
    "def main():\n",
    "    string = input(\"Digite uma string: \")\n",
    "    print(\"String original:\", string)\n",
    "    print(\"String invertida:\", reverter_string(string))\n",
    "\n",
    "if __name__ == \"__main__\":\n",
    "    main()\n"
   ]
  }
 ],
 "metadata": {
  "kernelspec": {
   "display_name": "Python 3",
   "language": "python",
   "name": "python3"
  },
  "language_info": {
   "codemirror_mode": {
    "name": "ipython",
    "version": 3
   },
   "file_extension": ".py",
   "mimetype": "text/x-python",
   "name": "python",
   "nbconvert_exporter": "python",
   "pygments_lexer": "ipython3",
   "version": "3.11.8"
  }
 },
 "nbformat": 4,
 "nbformat_minor": 2
}
